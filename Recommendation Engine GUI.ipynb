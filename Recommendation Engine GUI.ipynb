{
 "metadata": {
  "language_info": {
   "codemirror_mode": {
    "name": "ipython",
    "version": 3
   },
   "file_extension": ".py",
   "mimetype": "text/x-python",
   "name": "python",
   "nbconvert_exporter": "python",
   "pygments_lexer": "ipython3",
   "version": "3.9.5"
  },
  "orig_nbformat": 4,
  "kernelspec": {
   "name": "python3",
   "display_name": "Python 3.9.5 64-bit"
  },
  "interpreter": {
   "hash": "686f372cfa9fca3158af1cb236269f9be773e56934179203fa072774a55f0176"
  }
 },
 "nbformat": 4,
 "nbformat_minor": 2,
 "cells": [
  {
   "cell_type": "code",
   "execution_count": 1,
   "metadata": {},
   "outputs": [],
   "source": [
    "import tkinter as tk \n",
    "import pandas as pd \n",
    "import warnings\n",
    "warnings.filterwarnings('ignore')"
   ]
  },
  {
   "cell_type": "code",
   "execution_count": null,
   "metadata": {
    "tags": []
   },
   "outputs": [],
   "source": []
  },
  {
   "cell_type": "code",
   "execution_count": 2,
   "metadata": {
    "tags": []
   },
   "outputs": [
    {
     "output_type": "stream",
     "name": "stderr",
     "text": [
      "Exception in Tkinter callback\n",
      "Traceback (most recent call last):\n",
      "  File \"C:\\Users\\apary\\AppData\\Local\\Programs\\Python\\Python39\\lib\\tkinter\\__init__.py\", line 1892, in __call__\n",
      "    return self.func(*args)\n",
      "  File \"<ipython-input-2-590727c5dbe9>\", line 31, in recommend\n",
      "    recom.drop(inp,axis=0,inplace=True)\n",
      "  File \"C:\\Users\\apary\\AppData\\Local\\Programs\\Python\\Python39\\lib\\site-packages\\pandas\\core\\frame.py\", line 4308, in drop\n",
      "    return super().drop(\n",
      "  File \"C:\\Users\\apary\\AppData\\Local\\Programs\\Python\\Python39\\lib\\site-packages\\pandas\\core\\generic.py\", line 4153, in drop\n",
      "    obj = obj._drop_axis(labels, axis, level=level, errors=errors)\n",
      "  File \"C:\\Users\\apary\\AppData\\Local\\Programs\\Python\\Python39\\lib\\site-packages\\pandas\\core\\generic.py\", line 4188, in _drop_axis\n",
      "    new_axis = axis.drop(labels, errors=errors)\n",
      "  File \"C:\\Users\\apary\\AppData\\Local\\Programs\\Python\\Python39\\lib\\site-packages\\pandas\\core\\indexes\\base.py\", line 5592, in drop\n",
      "    raise KeyError(f\"{labels[mask]} not found in axis\")\n",
      "KeyError: \"['Jungle Book, The (1994)'] not found in axis\"\n",
      "Exception in Tkinter callback\n",
      "Traceback (most recent call last):\n",
      "  File \"C:\\Users\\apary\\AppData\\Local\\Programs\\Python\\Python39\\lib\\tkinter\\__init__.py\", line 1892, in __call__\n",
      "    return self.func(*args)\n",
      "  File \"<ipython-input-2-590727c5dbe9>\", line 31, in recommend\n",
      "    recom.drop(inp,axis=0,inplace=True)\n",
      "  File \"C:\\Users\\apary\\AppData\\Local\\Programs\\Python\\Python39\\lib\\site-packages\\pandas\\core\\frame.py\", line 4308, in drop\n",
      "    return super().drop(\n",
      "  File \"C:\\Users\\apary\\AppData\\Local\\Programs\\Python\\Python39\\lib\\site-packages\\pandas\\core\\generic.py\", line 4153, in drop\n",
      "    obj = obj._drop_axis(labels, axis, level=level, errors=errors)\n",
      "  File \"C:\\Users\\apary\\AppData\\Local\\Programs\\Python\\Python39\\lib\\site-packages\\pandas\\core\\generic.py\", line 4188, in _drop_axis\n",
      "    new_axis = axis.drop(labels, errors=errors)\n",
      "  File \"C:\\Users\\apary\\AppData\\Local\\Programs\\Python\\Python39\\lib\\site-packages\\pandas\\core\\indexes\\base.py\", line 5592, in drop\n",
      "    raise KeyError(f\"{labels[mask]} not found in axis\")\n",
      "KeyError: \"['Heavyweights (1994)'] not found in axis\"\n",
      "L.A. Confidential (1997)\n",
      "Index(['Pinocchio (1940)', 'Miracle on 34th Street (1994)', 'Dumbo (1941)'], dtype='object', name='title')\n",
      "Star Trek: First Contact (1996)\n",
      "Index(['Star Trek: Generations (1994)', 'Star Trek IV: The Voyage Home (1986)',\n",
      "       'Star Trek: The Wrath of Khan (1982)'],\n",
      "      dtype='object', name='title')\n",
      "Batman Forever (1995)\n",
      "Index(['Down Periscope (1996)', 'Jungle2Jungle (1997)',\n",
      "       'As Good As It Gets (1997)'],\n",
      "      dtype='object', name='title')\n"
     ]
    }
   ],
   "source": [
    "df=pd.read_csv(r'C:\\Users\\apary\\Downloads\\Compressed\\archive\\ml-100k\\u.data',sep='\\t',names=['user_id','item_id','rating','ts'])\n",
    "\n",
    "cols=\"item_id|title| release date | video release date |IMDb URL | unknown | Action | Adventure | Animation |Children's | Comedy | Crime | Documentary | Drama | Fantasy |Film-Noir | Horror | Musical | Mystery | Romance | Sci-Fi |Thriller | War | Western |\".split('|')\n",
    "movies=pd.read_csv(r'C:\\Users\\apary\\Downloads\\Compressed\\archive\\ml-100k\\u.item',sep='|',names=cols)\n",
    "\n",
    "data=pd.merge(df.drop('ts',axis=1),movies[['item_id' ,'title']],on='item_id')\n",
    "\n",
    "rate_count=data.groupby('title')['rating'].count()\n",
    "\n",
    "df_pivot=data.pivot_table(index='user_id',columns='title',values='rating')\n",
    "\n",
    "movies.columns = movies.columns.str.strip()\n",
    "df.columns = df.columns.str.strip()\n",
    "\n",
    "\n",
    "app=tk.Tk()\n",
    "app.geometry('450x300')\n",
    "app.title('Recommendation Engine')\n",
    "\n",
    "listbox=tk.Listbox(app, height=15,width=30,bg='white',fg='black')\n",
    "listbox.place(x=20,y=20) \n",
    "for i,t in enumerate(data['title'].unique()):\n",
    "    listbox.insert(i+1,t)\n",
    "\n",
    "\n",
    "def recommend():\n",
    "    inp=listbox.get(listbox.curselection())\n",
    "    sim_df=pd.DataFrame(df_pivot.corrwith(df_pivot[inp]),columns=['Correlation'])\n",
    "    sim_df['count']=rate_count\n",
    "    recom=sim_df[(sim_df['count']>100)].sort_values('Correlation',ascending=False)\n",
    "    recom.drop(inp,axis=0,inplace=True)\n",
    "    recommended=recom.index[:3]\n",
    "    result1.set(recommended[0])\n",
    "    result2.set(recommended[1])\n",
    "    result3.set(recommended[2])\n",
    "    print(inp)\n",
    "    print(recommended)\n",
    "\n",
    "tk.Button(app,text='Show Recommendation',command=recommend,bg='re',fg='white').place(x=250,y=30)\n",
    "\n",
    "result1=tk.Variable(app)\n",
    "result1.set('Result 1')\n",
    "tk.Label(app,textvariable=result1).place(x=250,y=100)\n",
    "\n",
    "result2=tk.Variable(app)\n",
    "result2.set('Result 2')\n",
    "tk.Label(app,textvariable=result2).place(x=250,y=130)\n",
    "\n",
    "result3=tk.Variable(app)\n",
    "result3.set('Result 3')\n",
    "tk.Label(app,textvariable=result3).place(x=250,y=160)\n",
    "\n",
    "\n",
    "\n",
    "app.mainloop()"
   ]
  }
 ]
}