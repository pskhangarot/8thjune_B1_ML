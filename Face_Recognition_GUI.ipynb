{
 "cells": [
  {
   "cell_type": "code",
   "execution_count": null,
   "source": [
    "import cv2"
   ],
   "outputs": [],
   "metadata": {}
  },
  {
   "cell_type": "code",
   "execution_count": null,
   "source": [
    "cap = cv2.VideoCapture(0)\r\n",
    "\r\n",
    "# Create the haar cascade\r\n",
    "faceCascade = cv2.CascadeClassifier(r'D:\\Data\\haarcascade_frontalface_default.xml')\r\n",
    "\r\n",
    "while(True):\r\n",
    "\t# Capture frame-by-frame\r\n",
    "\tret, frame = cap.read()\r\n",
    "\r\n",
    "\t# Our operations on the frame come here\r\n",
    "\tgray = cv2.cvtColor(frame, cv2.COLOR_BGR2GRAY)\r\n",
    "\r\n",
    "\t# Detect Face in the image\r\n",
    "\tFace = faceCascade.detectMultiScale(\r\n",
    "\t\tgray,\r\n",
    "\t\tscaleFactor=1.1,\r\n",
    "\t\tminNeighbors=5,\r\n",
    "\t\tminSize=(30, 30)\r\n",
    "\t\t#flags = cv2.CV_HAAR_SCALE_IMAGE\r\n",
    "\t)\r\n",
    "\r\n",
    "\tprint('Found {0} Face!'.format(len(Face)))\r\n",
    "\r\n",
    "\t# Draw a rectangle around the Face\r\n",
    "\tfor (x, y, w, h) in Face:\r\n",
    "\t\tcv2.rectangle(frame, (x, y), (x+w, y+h), (0, 255, 0), 2)\r\n",
    "\r\n",
    "\r\n",
    "\t# Display the resulting frame\r\n",
    "\tcv2.imshow('frame', frame)\r\n",
    "\tif cv2.waitKey(1) & 0xFF == ord('q'):\r\n",
    "\t\tbreak\r\n",
    "\r\n",
    "# When everything done, release the capture\r\n",
    "cap.release()\r\n",
    "cv2.destroyAllWindows()\r\n"
   ],
   "outputs": [],
   "metadata": {}
  }
 ],
 "metadata": {
  "orig_nbformat": 4,
  "language_info": {
   "name": "python",
   "version": "3.9.5",
   "mimetype": "text/x-python",
   "codemirror_mode": {
    "name": "ipython",
    "version": 3
   },
   "pygments_lexer": "ipython3",
   "nbconvert_exporter": "python",
   "file_extension": ".py"
  },
  "kernelspec": {
   "name": "python3",
   "display_name": "Python 3.9.5 64-bit"
  },
  "interpreter": {
   "hash": "9e8202808a7bf27f656767249b36df15235530d278ad3848eddb3f4aad6dad4e"
  }
 },
 "nbformat": 4,
 "nbformat_minor": 2
}