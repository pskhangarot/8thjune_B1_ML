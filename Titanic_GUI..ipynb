{
 "cells": [
  {
   "cell_type": "code",
   "execution_count": 2,
   "source": [
    "import numpy as np\r\n",
    "import pandas as pd\r\n",
    "import matplotlib.pyplot as plt\r\n",
    "import seaborn as sns\r\n",
    "import tkinter as tk\r\n",
    "import warnings\r\n",
    "warnings.filterwarnings('ignore')"
   ],
   "outputs": [],
   "metadata": {}
  },
  {
   "cell_type": "code",
   "execution_count": 3,
   "source": [
    "a = pd.read_pickle('Titanic.pkl')\r\n",
    "\r\n",
    "app = tk.Tk()\r\n",
    "app.geometry('450x300')\r\n",
    "app.title('Titanic Survivors')\r\n",
    "\r\n",
    "##Background--->\r\n",
    "#bg = tk.PhotoImage(file=)\r\n",
    "#bg = bg.subsample(3)\r\n",
    "\r\n",
    "canvas = tk.Canvas(app,width=450,height=300)\r\n",
    "canvas.pack(fill='both', expand=True)\r\n",
    "#canvas.create_image(0,0,image=bg, anchor='nw')\r\n",
    "canvas.create_text(320,10,text='Titanic Survivors')\r\n",
    "\r\n",
    "def Predict():\r\n",
    "    pclass = eval(Entry_pclass.get())\r\n",
    "    age = eval(Entry_age.get())\r\n",
    "    sibsp = eval(Entry_sibsp.get())\r\n",
    "    parch = eval(Entry_parch.get())\r\n",
    "    fare = eval(Entry_fare.get())\r\n",
    "    female = eval(Entry_female.get())\r\n",
    "    male = eval(Entry_male.get())\r\n",
    "    quary=pd.DataFrame({'Pclass':[pclass],'Age':[age],'SibSp':[sibsp],'Parch':[parch],'Fare':[fare],'female':[female],'male':[male]})\r\n",
    "    result.set(round(a.predict(quary)[0],2))\r\n",
    "\r\n",
    "pclass = canvas.create_text(100,60,anchor='nw',text='Enter the Pclass')\r\n",
    "age = canvas.create_text(100,80,anchor='nw',text='Enter the Age')\r\n",
    "sibsp = canvas.create_text(100,100,anchor='nw',text='Enter the SibSp')\r\n",
    "parch = canvas.create_text(100,120,anchor='nw',text='Enter the Parch')\r\n",
    "fare = canvas.create_text(100,140,anchor='nw',text='Enter the Fare')\r\n",
    "female = canvas.create_text(100,160,anchor='nw',text='Enter the Female')\r\n",
    "male = canvas.create_text(100,180,anchor='nw',text='Enter the Male')\r\n",
    "\r\n",
    "Entry_pclass = tk.Variable(app)\r\n",
    "tk.Entry(app,textvariable=Entry_pclass).place(x=260,y=60,height=20)\r\n",
    "\r\n",
    "Entry_age = tk.Variable(app)\r\n",
    "tk.Entry(app,textvariable=Entry_age).place(x=260,y=80,height=20)\r\n",
    "\r\n",
    "Entry_sibsp = tk.Variable(app)\r\n",
    "tk.Entry(app,textvariable=Entry_sibsp).place(x=260,y=100,height=20)\r\n",
    "\r\n",
    "Entry_parch = tk.Variable(app)\r\n",
    "tk.Entry(app,textvariable=Entry_parch).place(x=260,y=120,height=20)\r\n",
    "\r\n",
    "Entry_fare = tk.Variable(app)\r\n",
    "tk.Entry(app,textvariable=Entry_fare).place(x=260,y=140,height=20)\r\n",
    "\r\n",
    "Entry_female = tk.Variable(app)\r\n",
    "tk.Entry(app,textvariable=Entry_female).place(x=260,y=160,height=20)\r\n",
    "\r\n",
    "Entry_male = tk.Variable(app)\r\n",
    "tk.Entry(app,textvariable=Entry_male).place(x=260,y=180,height=20)\r\n",
    "\r\n",
    "tk.Button(app,text='Predictor',command=Predict,bg='light green').place(x=260,y=220,height=20)\r\n",
    "\r\n",
    "survivor_Prediction = tk.Variable(app)\r\n",
    "survivor_Prediction.set('Predicted Health')\r\n",
    "tk.Label(app,textvariable=survivor_Prediction).place(x=100,y=250)\r\n",
    "\r\n",
    "result = tk.Variable(app)\r\n",
    "result.set('')\r\n",
    "tk.Entry(app,textvariable=result).place(x=260,y=257,height=20)\r\n",
    "\r\n",
    "app.mainloop()\r\n"
   ],
   "outputs": [],
   "metadata": {}
  }
 ],
 "metadata": {
  "orig_nbformat": 4,
  "language_info": {
   "name": "python",
   "version": "3.9.5",
   "mimetype": "text/x-python",
   "codemirror_mode": {
    "name": "ipython",
    "version": 3
   },
   "pygments_lexer": "ipython3",
   "nbconvert_exporter": "python",
   "file_extension": ".py"
  },
  "kernelspec": {
   "name": "python3",
   "display_name": "Python 3.9.5 64-bit"
  },
  "interpreter": {
   "hash": "9e8202808a7bf27f656767249b36df15235530d278ad3848eddb3f4aad6dad4e"
  }
 },
 "nbformat": 4,
 "nbformat_minor": 2
}